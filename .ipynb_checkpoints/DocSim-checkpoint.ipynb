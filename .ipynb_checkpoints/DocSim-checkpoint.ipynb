{
 "cells": [
  {
   "cell_type": "markdown",
   "id": "5240b074",
   "metadata": {},
   "source": [
    "# Documents Similarity"
   ]
  },
  {
   "cell_type": "markdown",
   "id": "81ff1874",
   "metadata": {},
   "source": [
    "### Read Files"
   ]
  },
  {
   "cell_type": "code",
   "execution_count": 1,
   "id": "a79699f4",
   "metadata": {},
   "outputs": [],
   "source": [
    "path_name_documents = './Databases/prova/prova.jsonl'\n",
    "#path_name_documents = './Databases/prova/prova2.jsonl'\n",
    "#path_name_documents = './Databases/prova/prova4.jsonl'\n",
    "#path_name_documents = './Databases/prova/prova10.jsonl'\n",
    "#path_name_documents = './Databases/prova/prova50.jsonl'  \n",
    "#path_name_documents = './Databases/prova/prova5000.jsonl'\n",
    "#path_name_documents = './Databases/prova/prova2000.jsonl'\n",
    "#path_name_documents = './Databases/prova/prova30000.jsonl'"
   ]
  },
  {
   "cell_type": "code",
   "execution_count": 2,
   "id": "ba4b9e52",
   "metadata": {},
   "outputs": [],
   "source": [
    "import json\n",
    "import numpy as np\n",
    "import string\n",
    "\n",
    "def readFile(path_name):\n",
    "    # Load the JSONL file into a list\n",
    "    with open(path_name, 'r') as f:\n",
    "        lines = f.readlines()\n",
    "\n",
    "    # Convert each JSON object into a dictionary\n",
    "    dicts = [json.loads(line) for line in lines]\n",
    "\n",
    "    # Convert the dictionaries into arrays and stack them vertically\n",
    "    arrays = np.vstack([np.array(list(d.values())) for d in dicts])\n",
    "\n",
    "    # Convert the arrays into a list of lists\n",
    "    text = arrays.tolist()\n",
    "    \n",
    "    return text\n",
    "\n",
    "documents = readFile(path_name_documents)"
   ]
  },
  {
   "cell_type": "code",
   "execution_count": 3,
   "id": "0b492ef2",
   "metadata": {},
   "outputs": [],
   "source": [
    "import time\n",
    "\n",
    "def time_it(func):\n",
    "    def wrapper(*args, **kwargs):\n",
    "        start_time = time.time()\n",
    "        result = func(*args, **kwargs)\n",
    "        end_time = time.time()\n",
    "        print(f\"Execution time: {end_time - start_time:.5f} seconds\")\n",
    "        return result\n",
    "    return wrapper"
   ]
  },
  {
   "cell_type": "markdown",
   "id": "60e01ed9",
   "metadata": {},
   "source": [
    "## Tokenized"
   ]
  },
  {
   "cell_type": "code",
   "execution_count": 4,
   "id": "168d10a2",
   "metadata": {},
   "outputs": [],
   "source": [
    "import json\n",
    "import nltk\n",
    "import re\n",
    "import string\n",
    "from nltk.tokenize import word_tokenize\n",
    "from nltk.corpus import stopwords\n",
    "from nltk.stem import PorterStemmer, WordNetLemmatizer\n",
    "\n",
    "\n",
    "stop_words = set(stopwords.words('english'))\n",
    "\n",
    "def stemmingLemming(filtered_tokens):\n",
    "    stemmer = PorterStemmer()\n",
    "    lemmatizer = WordNetLemmatizer()\n",
    "\n",
    "    # Perform stemming or lemmatization on filtered tokens\n",
    "    \n",
    "    filtered_tokens = [lemmatizer.lemmatize(token) for token in filtered_tokens]\n",
    "    filtered_tokens = [stemmer.stem(token) for token in filtered_tokens]\n",
    "\n",
    "    return filtered_tokens\n",
    "    \n",
    " \n",
    "    \n",
    "\n",
    "def tokenize(path_name):\n",
    "    \n",
    "    with open(path_name, \"r\") as f:\n",
    "        data = f.readlines()\n",
    "\n",
    "        # Create an empty list to store the tokenized documents\n",
    "        tokenized_docs = []\n",
    "\n",
    "        # Loop through each line in the JSONL file\n",
    "        for line in data:\n",
    "            # Parse the JSON string into a Python dictionary\n",
    "            doc = json.loads(line)\n",
    "\n",
    "            # Extract the text from the dictionary\n",
    "            text = doc['text']\n",
    "            text = text.lower()  # Convert to lowercase\n",
    "            #text = re.sub(r'\\d+', '', text)  # Remove all numbers\n",
    "            text = text.translate(str.maketrans('', '', string.punctuation))  # Remove all punctuation\n",
    "\n",
    "            # Tokenize the text using NLTK\n",
    "            tokens = word_tokenize(text)\n",
    "            tokensStemLem = stemmingLemming(tokens)\n",
    "\n",
    "            # Add the tokenized document to the list\n",
    "            tokenized_docs.append(tokensStemLem)\n",
    "\n",
    "        # Print the tokenized documents\n",
    "    return tokenized_docs\n",
    "\n",
    "\n",
    "tokenized_docs = tokenize(path_name_documents)\n"
   ]
  },
  {
   "cell_type": "markdown",
   "id": "410f45f7",
   "metadata": {},
   "source": [
    "## Sparse Vectors"
   ]
  },
  {
   "cell_type": "markdown",
   "id": "facc2ed4",
   "metadata": {},
   "source": [
    "### TF-IDF"
   ]
  },
  {
   "cell_type": "code",
   "execution_count": 5,
   "id": "bf6ef721",
   "metadata": {},
   "outputs": [],
   "source": [
    "from sklearn.feature_extraction.text import TfidfVectorizer\n",
    "\n",
    "\n",
    "def calculateTFIDF(tokenized_docs):  \n",
    "    vectorizer = TfidfVectorizer()\n",
    "    # Fit and transform the tokenized documents into a TF-IDF matrix\n",
    "    tfidf_matrix = vectorizer.fit_transform([' '.join(doc) for doc in tokenized_docs])\n",
    "\n",
    "    # Get the feature names (tokens)\n",
    "    feature_names = vectorizer.get_feature_names_out()\n",
    "\n",
    "    # Return the TF-IDF matrix and the feature names\n",
    "    return tfidf_matrix, feature_names,vectorizer\n",
    "       \n",
    "tfidf_matrix_docs, feature_names_docs,vectorizer  = calculateTFIDF(tokenized_docs)"
   ]
  },
  {
   "cell_type": "markdown",
   "id": "b2cab6cb",
   "metadata": {},
   "source": [
    "## Cosine Similarity"
   ]
  },
  {
   "cell_type": "code",
   "execution_count": 6,
   "id": "0f2a4d4c",
   "metadata": {
    "scrolled": true
   },
   "outputs": [
    {
     "data": {
      "text/html": [
       "<div>\n",
       "<style scoped>\n",
       "    .dataframe tbody tr th:only-of-type {\n",
       "        vertical-align: middle;\n",
       "    }\n",
       "\n",
       "    .dataframe tbody tr th {\n",
       "        vertical-align: top;\n",
       "    }\n",
       "\n",
       "    .dataframe thead th {\n",
       "        text-align: right;\n",
       "    }\n",
       "</style>\n",
       "<table border=\"1\" class=\"dataframe\">\n",
       "  <thead>\n",
       "    <tr style=\"text-align: right;\">\n",
       "      <th></th>\n",
       "      <th>Doc 1</th>\n",
       "      <th>Doc 2</th>\n",
       "      <th>Doc 3</th>\n",
       "      <th>Doc 4</th>\n",
       "      <th>Doc 5</th>\n",
       "    </tr>\n",
       "  </thead>\n",
       "  <tbody>\n",
       "    <tr>\n",
       "      <th>Doc 1</th>\n",
       "      <td>1.000000</td>\n",
       "      <td>0.483146</td>\n",
       "      <td>0.323318</td>\n",
       "      <td>0.323318</td>\n",
       "      <td>0.0</td>\n",
       "    </tr>\n",
       "    <tr>\n",
       "      <th>Doc 2</th>\n",
       "      <td>0.483146</td>\n",
       "      <td>1.000000</td>\n",
       "      <td>0.000000</td>\n",
       "      <td>0.000000</td>\n",
       "      <td>0.0</td>\n",
       "    </tr>\n",
       "    <tr>\n",
       "      <th>Doc 3</th>\n",
       "      <td>0.323318</td>\n",
       "      <td>0.000000</td>\n",
       "      <td>1.000000</td>\n",
       "      <td>1.000000</td>\n",
       "      <td>0.0</td>\n",
       "    </tr>\n",
       "    <tr>\n",
       "      <th>Doc 4</th>\n",
       "      <td>0.323318</td>\n",
       "      <td>0.000000</td>\n",
       "      <td>1.000000</td>\n",
       "      <td>1.000000</td>\n",
       "      <td>0.0</td>\n",
       "    </tr>\n",
       "    <tr>\n",
       "      <th>Doc 5</th>\n",
       "      <td>0.000000</td>\n",
       "      <td>0.000000</td>\n",
       "      <td>0.000000</td>\n",
       "      <td>0.000000</td>\n",
       "      <td>1.0</td>\n",
       "    </tr>\n",
       "  </tbody>\n",
       "</table>\n",
       "</div>"
      ],
      "text/plain": [
       "          Doc 1     Doc 2     Doc 3     Doc 4  Doc 5\n",
       "Doc 1  1.000000  0.483146  0.323318  0.323318    0.0\n",
       "Doc 2  0.483146  1.000000  0.000000  0.000000    0.0\n",
       "Doc 3  0.323318  0.000000  1.000000  1.000000    0.0\n",
       "Doc 4  0.323318  0.000000  1.000000  1.000000    0.0\n",
       "Doc 5  0.000000  0.000000  0.000000  0.000000    1.0"
      ]
     },
     "execution_count": 6,
     "metadata": {},
     "output_type": "execute_result"
    }
   ],
   "source": [
    "import pandas as pd\n",
    "from sklearn.metrics.pairwise import cosine_similarity\n",
    "\n",
    "def similarity(tfidf_matrix):\n",
    "    # we compute the cosine similarity between the documents\n",
    "    cos_sim = cosine_similarity(tfidf_matrix)\n",
    "\n",
    "    # we create a table with the similarity cosines for each pair of documents\n",
    "    sim_table = pd.DataFrame(cos_sim, columns=['Doc ' + str(i+1) for i in range(cos_sim.shape[0])], index=['Doc ' + str(i+1) for i in range(cos_sim.shape[0])])\n",
    "    \n",
    "    return sim_table, cos_sim\n",
    "\n",
    "cos_sim_table, cos_sim = similarity(tfidf_matrix_docs)\n",
    "cos_sim_table"
   ]
  },
  {
   "cell_type": "markdown",
   "id": "f34fa3d7",
   "metadata": {},
   "source": [
    "### Set the threshold value"
   ]
  },
  {
   "cell_type": "code",
   "execution_count": 7,
   "id": "daee1c3c",
   "metadata": {},
   "outputs": [],
   "source": [
    "threshold = 0.1"
   ]
  },
  {
   "cell_type": "markdown",
   "id": "8cce4829",
   "metadata": {},
   "source": [
    "# Sequential Algorithms"
   ]
  },
  {
   "cell_type": "markdown",
   "id": "3d5ed0cd",
   "metadata": {},
   "source": [
    "### For each document create pairs of similar documents"
   ]
  },
  {
   "cell_type": "code",
   "execution_count": 8,
   "id": "741d63bf",
   "metadata": {},
   "outputs": [],
   "source": [
    "def sequential_pair_similar_documents(cos_sim, threshold):   \n",
    "    # We create a list of pairs of similar documents with a similarity value greater than the threshold\n",
    "    sim_pairs = []\n",
    "    n_docs = cos_sim.shape[0]\n",
    "    for i in range(n_docs):\n",
    "        for j in range(i+1, n_docs):\n",
    "            if cos_sim[i,j] > threshold:\n",
    "                sim_pairs.append((i+1, j+1))\n",
    "            \n",
    "    return sim_pairs\n",
    "\n"
   ]
  },
  {
   "cell_type": "markdown",
   "id": "b0eef66e",
   "metadata": {},
   "source": [
    "### Best execution time"
   ]
  },
  {
   "cell_type": "code",
   "execution_count": 9,
   "id": "85b81737",
   "metadata": {},
   "outputs": [],
   "source": [
    "import time\n",
    "\n",
    "def sequential_pair_similar_documents(cos_sim, threshold):\n",
    "    start_time = time.time()\n",
    "    # Find the indexes of cells that exceed the similarity threshold\n",
    "    sim_idxs = np.argwhere(cos_sim > threshold)\n",
    "    # Converts cell indexes to similar document pairs\n",
    "    sim_pairs = [(i+1, j+1) for i, j in sim_idxs if i < j]\n",
    "    \n",
    "    end_time = time.time()\n",
    "    sequential_total_time = end_time - start_time\n",
    "\n",
    "    return sim_pairs, sequential_total_time\n",
    "\n",
    "\n",
    "sim_pairs , sequential_total_time = sequential_pair_similar_documents(cos_sim, threshold)\n",
    "\n",
    "    "
   ]
  },
  {
   "cell_type": "code",
   "execution_count": 10,
   "id": "f777c9a1",
   "metadata": {},
   "outputs": [
    {
     "data": {
      "text/plain": [
       "[(1, 2), (1, 3), (1, 4), (3, 4)]"
      ]
     },
     "execution_count": 10,
     "metadata": {},
     "output_type": "execute_result"
    }
   ],
   "source": [
    "sim_pairs"
   ]
  },
  {
   "cell_type": "code",
   "execution_count": 11,
   "id": "aba36544",
   "metadata": {},
   "outputs": [
    {
     "data": {
      "text/plain": [
       "0.0"
      ]
     },
     "execution_count": 11,
     "metadata": {},
     "output_type": "execute_result"
    }
   ],
   "source": [
    "sequential_total_time"
   ]
  },
  {
   "cell_type": "code",
   "execution_count": 12,
   "id": "8852a18f",
   "metadata": {},
   "outputs": [
    {
     "data": {
      "text/plain": [
       "4"
      ]
     },
     "execution_count": 12,
     "metadata": {},
     "output_type": "execute_result"
    }
   ],
   "source": [
    "num_pairs_sequential = len(sim_pairs)\n",
    "num_pairs_sequential"
   ]
  },
  {
   "cell_type": "markdown",
   "id": "a4552c8f",
   "metadata": {},
   "source": [
    "### For each document calculate the number of similar documents"
   ]
  },
  {
   "cell_type": "code",
   "execution_count": 13,
   "id": "d0f64424",
   "metadata": {},
   "outputs": [],
   "source": [
    "def sequential_count_similar_documents(cos_sim, threshold):\n",
    "    num_similar = []\n",
    "    n_docs = cos_sim.shape[0]\n",
    "    for i in range(n_docs):\n",
    "        num = 0\n",
    "        for j in range(i+1, n_docs):\n",
    "            if cos_sim[i,j] > threshold:\n",
    "                num += 1\n",
    "        num_similar.append(num)\n",
    "    return num_similar, threshold\n",
    "\n",
    "num_similar, threshold = sequential_count_similar_documents(cos_sim, threshold)\n"
   ]
  },
  {
   "cell_type": "markdown",
   "id": "e10772e4",
   "metadata": {},
   "source": [
    "### For each document create a list with similar documents"
   ]
  },
  {
   "cell_type": "code",
   "execution_count": 14,
   "id": "9626a304",
   "metadata": {},
   "outputs": [],
   "source": [
    "def sequential_similar_documents(cos_sim, threshold):\n",
    "    similar_docs = []\n",
    "    n_docs = cos_sim.shape[0]\n",
    "    for i in range(n_docs):\n",
    "        sim_docs = []\n",
    "        for j in range(i+1, n_docs):\n",
    "            if cos_sim[i,j] > threshold:\n",
    "                sim_docs.append(f\"Doc {j+1}\")\n",
    "        similar_docs.append(sim_docs)\n",
    "    return similar_docs\n",
    "\n",
    "similar_docs = sequential_similar_documents(cos_sim, threshold)\n"
   ]
  },
  {
   "cell_type": "markdown",
   "id": "0fec9ed6",
   "metadata": {},
   "source": [
    "### Table of final results"
   ]
  },
  {
   "cell_type": "code",
   "execution_count": 15,
   "id": "e529d77e",
   "metadata": {
    "scrolled": true
   },
   "outputs": [
    {
     "data": {
      "text/html": [
       "<div>\n",
       "<style scoped>\n",
       "    .dataframe tbody tr th:only-of-type {\n",
       "        vertical-align: middle;\n",
       "    }\n",
       "\n",
       "    .dataframe tbody tr th {\n",
       "        vertical-align: top;\n",
       "    }\n",
       "\n",
       "    .dataframe thead th {\n",
       "        text-align: right;\n",
       "    }\n",
       "</style>\n",
       "<table border=\"1\" class=\"dataframe\">\n",
       "  <thead>\n",
       "    <tr style=\"text-align: right;\">\n",
       "      <th></th>\n",
       "      <th>Documents</th>\n",
       "      <th>Number of similar documents</th>\n",
       "      <th>Similar Documents</th>\n",
       "      <th>Threshold</th>\n",
       "    </tr>\n",
       "  </thead>\n",
       "  <tbody>\n",
       "    <tr>\n",
       "      <th>0</th>\n",
       "      <td>Doc 1</td>\n",
       "      <td>3</td>\n",
       "      <td>Doc 2, Doc 3, Doc 4</td>\n",
       "      <td>0.1</td>\n",
       "    </tr>\n",
       "    <tr>\n",
       "      <th>1</th>\n",
       "      <td>Doc 2</td>\n",
       "      <td>0</td>\n",
       "      <td></td>\n",
       "      <td>0.1</td>\n",
       "    </tr>\n",
       "    <tr>\n",
       "      <th>2</th>\n",
       "      <td>Doc 3</td>\n",
       "      <td>1</td>\n",
       "      <td>Doc 4</td>\n",
       "      <td>0.1</td>\n",
       "    </tr>\n",
       "    <tr>\n",
       "      <th>3</th>\n",
       "      <td>Doc 4</td>\n",
       "      <td>0</td>\n",
       "      <td></td>\n",
       "      <td>0.1</td>\n",
       "    </tr>\n",
       "    <tr>\n",
       "      <th>4</th>\n",
       "      <td>Doc 5</td>\n",
       "      <td>0</td>\n",
       "      <td></td>\n",
       "      <td>0.1</td>\n",
       "    </tr>\n",
       "  </tbody>\n",
       "</table>\n",
       "</div>"
      ],
      "text/plain": [
       "  Documents  Number of similar documents    Similar Documents  Threshold\n",
       "0     Doc 1                            3  Doc 2, Doc 3, Doc 4        0.1\n",
       "1     Doc 2                            0                             0.1\n",
       "2     Doc 3                            1                Doc 4        0.1\n",
       "3     Doc 4                            0                             0.1\n",
       "4     Doc 5                            0                             0.1"
      ]
     },
     "execution_count": 15,
     "metadata": {},
     "output_type": "execute_result"
    }
   ],
   "source": [
    "def create_similar_table(similar_docs, num_similar, threshold):\n",
    "    doc_names = [f\"Doc {i+1}\" for i in range(len(num_similar))]\n",
    "    similar_docs_str = [\", \".join(docs) for docs in similar_docs]\n",
    "    similar_table = pd.DataFrame({\"Documents\": doc_names, \"Number of similar documents\": num_similar, \"Similar Documents\": similar_docs_str, \"Threshold\": threshold})\n",
    "    pd.set_option('display.max_rows', None)\n",
    "\n",
    "    return similar_table\n",
    "\n",
    "similar_table = create_similar_table(similar_docs, num_similar, threshold)\n",
    "similar_table"
   ]
  },
  {
   "cell_type": "markdown",
   "id": "ec525ee7",
   "metadata": {},
   "source": [
    "# Parallel Algorithm"
   ]
  },
  {
   "cell_type": "markdown",
   "id": "2ceb5947",
   "metadata": {},
   "source": [
    "### Function to take input data"
   ]
  },
  {
   "cell_type": "code",
   "execution_count": 16,
   "id": "76ea25d8",
   "metadata": {},
   "outputs": [],
   "source": [
    "from scipy.sparse import coo_matrix\n",
    "\n",
    "def extract_document_terms(tfidf_matrix):\n",
    "    matrix_coo = coo_matrix(tfidf_matrix)\n",
    "    data = matrix_coo.data\n",
    "    row = matrix_coo.row\n",
    "    col = matrix_coo.col\n",
    "\n",
    "    doc_terms = []\n",
    "    current_doc = -1\n",
    "    terms = []\n",
    "\n",
    "    for i in range(len(data)):\n",
    "        doc_id = row[i]\n",
    "        term_id = col[i]\n",
    "        term_value = data[i]\n",
    "\n",
    "        if doc_id != current_doc:\n",
    "            if terms:\n",
    "                doc_terms.append((current_doc+1, terms))\n",
    "                terms = []\n",
    "            current_doc = doc_id\n",
    "\n",
    "        terms.append((term_id, term_value))\n",
    "\n",
    "    if terms:\n",
    "        doc_terms.append((current_doc, terms))\n",
    "\n",
    "    return doc_terms\n",
    "\n",
    "doc_info_list = extract_document_terms(tfidf_matrix_docs)\n",
    "#print(doc_info_list)\n"
   ]
  },
  {
   "cell_type": "markdown",
   "id": "cde1d6b4",
   "metadata": {},
   "source": [
    "## Functions Map and Reduce"
   ]
  },
  {
   "cell_type": "code",
   "execution_count": 17,
   "id": "a7fcce93",
   "metadata": {},
   "outputs": [],
   "source": [
    "def my_map(doc_info):\n",
    "    mapped_doc = []\n",
    "\n",
    "    doc_id, terms = doc_info\n",
    "    \n",
    "    max_term_id = max(terms, key=lambda x: x[0])[0]\n",
    "    doc_terms = [(term_id, value) for term_id, value in terms]\n",
    "    mapped_doc.append((doc_id, max_term_id, doc_terms))\n",
    "\n",
    "    return mapped_doc\n",
    "\n"
   ]
  },
  {
   "cell_type": "code",
   "execution_count": 18,
   "id": "58488ab1",
   "metadata": {},
   "outputs": [],
   "source": [
    "def my_reduce(docs, threshold):\n",
    "    pairs = []\n",
    "    docs_list = list(docs)  # Convert the docs iterator to a list\n",
    "\n",
    "    n_docs = len(docs_list)\n",
    "    print(n_docs)\n",
    "    \n",
    "    for i in range(n_docs - 1):\n",
    "        for j in range(i + 1, n_docs):\n",
    "            doc1_id, term_id, doc1 = docs_list[i]\n",
    "            doc2_id, _, doc2 = docs_list[j]\n",
    "\n",
    "            terms_1 = {t_id1: val1 for t_id1, val1 in doc1}\n",
    "            terms_2 = {t_id2: val2 for t_id2, val2 in doc2}\n",
    "\n",
    "            common_terms = set(terms_1).intersection(terms_2)\n",
    "\n",
    "            if not common_terms:\n",
    "                continue\n",
    "\n",
    "            max_term = max(common_terms)\n",
    "\n",
    "            sim = 0.0\n",
    "\n",
    "            for term in common_terms:\n",
    "                sim += terms_1[term] * terms_2[term]\n",
    "\n",
    "            if sim >= threshold:\n",
    "                if doc2_id == n_docs:\n",
    "                    doc2_id += 1\n",
    "                pair = ((doc1_id, doc2_id), sim)\n",
    "                pairs.append(pair)\n",
    "\n",
    "    return pairs\n",
    "\n",
    "\n"
   ]
  },
  {
   "cell_type": "markdown",
   "id": "5da7fd59",
   "metadata": {},
   "source": [
    "# Implementazioni per Spark "
   ]
  },
  {
   "cell_type": "code",
   "execution_count": 19,
   "id": "2a6431b0",
   "metadata": {},
   "outputs": [],
   "source": [
    "import os\n",
    "os.environ['PYSPARK_PYTHON'] = 'C:/Users/lita4/anaconda3/python.exe'\n",
    "os.environ['PYSPARK_DRIVER_PYTHON'] = 'C:/Users/lita4/anaconda3/python.exe'"
   ]
  },
  {
   "cell_type": "markdown",
   "id": "716eca72",
   "metadata": {},
   "source": [
    "### Execution with spark"
   ]
  },
  {
   "cell_type": "markdown",
   "id": "7b2c1fe4",
   "metadata": {},
   "source": [
    "#### Input Data"
   ]
  },
  {
   "cell_type": "code",
   "execution_count": 20,
   "id": "b4983fb5",
   "metadata": {},
   "outputs": [],
   "source": [
    "doc_info_list = extract_document_terms(tfidf_matrix_docs)\n"
   ]
  },
  {
   "cell_type": "code",
   "execution_count": 23,
   "id": "a9bb753a",
   "metadata": {
    "scrolled": false
   },
   "outputs": [
    {
     "name": "stdout",
     "output_type": "stream",
     "text": [
      "EXECUTION WITH PARTITIONS =  1\n",
      "EXECUTION INPUT\n",
      "[(1, [(6, 0.7694470729725092), (5, 0.6387105775654869)]), (2, [(2, 0.7782829228046183), (6, 0.6279137616509933)]), (3, [(1, 0.6098184563533858), (7, 0.6098184563533858), (5, 0.5062044059286201)]), (4, [(1, 0.6098184563533858), (7, 0.6098184563533858), (5, 0.5062044059286201)]), (4, [(4, 0.5773502691896258), (0, 0.5773502691896258), (3, 0.5773502691896258)])]\n",
      "EXECUTION MAP\n",
      "EXECUTION REPARTITION\n",
      "EXECUTION REDUCE\n",
      "EXECUTION RESULTS\n",
      "Time of execution 1.6409978866577148\n",
      "((1, 2), 0.48314640598151465)\n",
      "((1, 3), 0.32331810847686315)\n",
      "((1, 4), 0.32331810847686315)\n",
      "((3, 4), 1.0)\n",
      "\n",
      "EXECUTION WITH PARTITIONS =  2\n",
      "EXECUTION INPUT\n",
      "[(1, [(6, 0.7694470729725092), (5, 0.6387105775654869)]), (2, [(2, 0.7782829228046183), (6, 0.6279137616509933)]), (3, [(1, 0.6098184563533858), (7, 0.6098184563533858), (5, 0.5062044059286201)]), (4, [(1, 0.6098184563533858), (7, 0.6098184563533858), (5, 0.5062044059286201)]), (4, [(4, 0.5773502691896258), (0, 0.5773502691896258), (3, 0.5773502691896258)])]\n",
      "EXECUTION MAP\n",
      "EXECUTION REPARTITION\n",
      "EXECUTION REDUCE\n",
      "EXECUTION RESULTS\n",
      "Time of execution 2.854945421218872\n",
      "((1, 2), 0.48314640598151465)\n",
      "((1, 3), 0.32331810847686315)\n",
      "((1, 4), 0.32331810847686315)\n",
      "((3, 4), 1.0)\n",
      "\n",
      "EXECUTION WITH PARTITIONS =  3\n",
      "EXECUTION INPUT\n",
      "[(1, [(6, 0.7694470729725092), (5, 0.6387105775654869)]), (2, [(2, 0.7782829228046183), (6, 0.6279137616509933)]), (3, [(1, 0.6098184563533858), (7, 0.6098184563533858), (5, 0.5062044059286201)]), (4, [(1, 0.6098184563533858), (7, 0.6098184563533858), (5, 0.5062044059286201)]), (4, [(4, 0.5773502691896258), (0, 0.5773502691896258), (3, 0.5773502691896258)])]\n",
      "EXECUTION MAP\n",
      "EXECUTION REPARTITION\n",
      "EXECUTION REDUCE\n",
      "EXECUTION RESULTS\n",
      "Time of execution 4.093005418777466\n",
      "\n",
      "EXECUTION WITH PARTITIONS =  4\n",
      "EXECUTION INPUT\n",
      "[(1, [(6, 0.7694470729725092), (5, 0.6387105775654869)]), (2, [(2, 0.7782829228046183), (6, 0.6279137616509933)]), (3, [(1, 0.6098184563533858), (7, 0.6098184563533858), (5, 0.5062044059286201)]), (4, [(1, 0.6098184563533858), (7, 0.6098184563533858), (5, 0.5062044059286201)]), (4, [(4, 0.5773502691896258), (0, 0.5773502691896258), (3, 0.5773502691896258)])]\n",
      "EXECUTION MAP\n",
      "EXECUTION REPARTITION\n",
      "EXECUTION REDUCE\n",
      "EXECUTION RESULTS\n",
      "Time of execution 5.298999309539795\n",
      "((1, 3), 0.48314640598151465)\n",
      "\n",
      "EXECUTION WITH PARTITIONS =  5\n",
      "EXECUTION INPUT\n",
      "[(1, [(6, 0.7694470729725092), (5, 0.6387105775654869)]), (2, [(2, 0.7782829228046183), (6, 0.6279137616509933)]), (3, [(1, 0.6098184563533858), (7, 0.6098184563533858), (5, 0.5062044059286201)]), (4, [(1, 0.6098184563533858), (7, 0.6098184563533858), (5, 0.5062044059286201)]), (4, [(4, 0.5773502691896258), (0, 0.5773502691896258), (3, 0.5773502691896258)])]\n",
      "EXECUTION MAP\n",
      "EXECUTION REPARTITION\n",
      "EXECUTION REDUCE\n",
      "EXECUTION RESULTS\n",
      "Time of execution 6.599201440811157\n",
      "((1, 2), 0.48314640598151465)\n",
      "((1, 3), 0.32331810847686315)\n",
      "\n",
      "EXECUTION WITH PARTITIONS =  6\n",
      "EXECUTION INPUT\n",
      "[(1, [(6, 0.7694470729725092), (5, 0.6387105775654869)]), (2, [(2, 0.7782829228046183), (6, 0.6279137616509933)]), (3, [(1, 0.6098184563533858), (7, 0.6098184563533858), (5, 0.5062044059286201)]), (4, [(1, 0.6098184563533858), (7, 0.6098184563533858), (5, 0.5062044059286201)]), (4, [(4, 0.5773502691896258), (0, 0.5773502691896258), (3, 0.5773502691896258)])]\n",
      "EXECUTION MAP\n",
      "EXECUTION REPARTITION\n",
      "EXECUTION REDUCE\n",
      "EXECUTION RESULTS\n",
      "Time of execution 7.76200008392334\n",
      "\n",
      "EXECUTION WITH PARTITIONS =  7\n",
      "EXECUTION INPUT\n",
      "[(1, [(6, 0.7694470729725092), (5, 0.6387105775654869)]), (2, [(2, 0.7782829228046183), (6, 0.6279137616509933)]), (3, [(1, 0.6098184563533858), (7, 0.6098184563533858), (5, 0.5062044059286201)]), (4, [(1, 0.6098184563533858), (7, 0.6098184563533858), (5, 0.5062044059286201)]), (4, [(4, 0.5773502691896258), (0, 0.5773502691896258), (3, 0.5773502691896258)])]\n",
      "EXECUTION MAP\n",
      "EXECUTION REPARTITION\n",
      "EXECUTION REDUCE\n",
      "EXECUTION RESULTS\n",
      "Time of execution 9.115000486373901\n",
      "((3, 4), 1.0)\n",
      "\n",
      "EXECUTION WITH PARTITIONS =  8\n",
      "EXECUTION INPUT\n",
      "[(1, [(6, 0.7694470729725092), (5, 0.6387105775654869)]), (2, [(2, 0.7782829228046183), (6, 0.6279137616509933)]), (3, [(1, 0.6098184563533858), (7, 0.6098184563533858), (5, 0.5062044059286201)]), (4, [(1, 0.6098184563533858), (7, 0.6098184563533858), (5, 0.5062044059286201)]), (4, [(4, 0.5773502691896258), (0, 0.5773502691896258), (3, 0.5773502691896258)])]\n",
      "EXECUTION MAP\n",
      "EXECUTION REPARTITION\n",
      "EXECUTION REDUCE\n",
      "EXECUTION RESULTS\n",
      "Time of execution 10.306762933731079\n",
      "\n"
     ]
    }
   ],
   "source": [
    "from pyspark import SparkConf, SparkContext\n",
    "import time\n",
    "\n",
    "total_results_time = []\n",
    "num_pairs_parallel = 0\n",
    "\n",
    "\n",
    "for i in range(1,9):\n",
    "\n",
    "    print(\"EXECUTION WITH PARTITIONS = \",i)\n",
    "    start_time = time.time()\n",
    "    conf = SparkConf().setAppName(\"MyApp\").setMaster(\"local[16]\").set(\"spark.executor.memory\", \"20g\").set(\"spark.network.timeout\", \"600s\")\n",
    "    sc = SparkContext(conf=conf)\n",
    "\n",
    "\n",
    "    print(\"EXECUTION INPUT\")\n",
    "    input_rdd = sc.parallelize(doc_info_list,i)\n",
    "    print(input_rdd.collect())\n",
    "\n",
    "    print(\"EXECUTION MAP\")\n",
    "    mapped_rdd = input_rdd.flatMap(my_map)\n",
    "    #print(mapped_rdd.collect())\n",
    "\n",
    "    print(\"EXECUTION REPARTITION\")\n",
    "    mapped_rdd = mapped_rdd.repartition(i)\n",
    "    # Repartition the RDD to evenly distribute the data across partitions\n",
    "\n",
    "\n",
    "    print(\"EXECUTION REDUCE\")\n",
    "    reduced_pairs = mapped_rdd.mapPartitions(lambda docs: my_reduce(docs, threshold))\n",
    "    print(\"EXECUTION RESULTS\")\n",
    "    results = reduced_pairs.collect()\n",
    "\n",
    "    end_time = time.time()\n",
    "    total_time = end_time - start_time\n",
    "\n",
    "    print(\"Time of execution\",total_time)\n",
    "    total_results_time.append(total_time)\n",
    "\n",
    "    results = list(set(results))\n",
    "    for result in sorted(results):\n",
    "        print(result)\n",
    "\n",
    "    print()\n",
    "\n",
    "    if(i == 1):\n",
    "        num_pairs_parallel = len(results)\n",
    "\n",
    "    sc.stop()"
   ]
  },
  {
   "cell_type": "code",
   "execution_count": 24,
   "id": "9bc84b1b",
   "metadata": {},
   "outputs": [
    {
     "data": {
      "text/plain": [
       "4"
      ]
     },
     "execution_count": 24,
     "metadata": {},
     "output_type": "execute_result"
    }
   ],
   "source": [
    "num_pairs_parallel"
   ]
  },
  {
   "cell_type": "code",
   "execution_count": 25,
   "id": "3d7c2940",
   "metadata": {},
   "outputs": [
    {
     "data": {
      "text/plain": [
       "[1.6409978866577148,\n",
       " 2.854945421218872,\n",
       " 4.093005418777466,\n",
       " 5.298999309539795,\n",
       " 6.599201440811157,\n",
       " 7.76200008392334,\n",
       " 9.115000486373901,\n",
       " 10.306762933731079]"
      ]
     },
     "execution_count": 25,
     "metadata": {},
     "output_type": "execute_result"
    }
   ],
   "source": [
    "total_results_time"
   ]
  },
  {
   "cell_type": "code",
   "execution_count": 26,
   "id": "eba640de",
   "metadata": {
    "scrolled": false
   },
   "outputs": [
    {
     "data": {
      "image/png": "[encoded data removed]",
      "text/plain": [
       "<Figure size 640x480 with 1 Axes>"
      ]
     },
     "metadata": {},
     "output_type": "display_data"
    }
   ],
   "source": [
    "import matplotlib.pyplot as plt\n",
    "\n",
    "import matplotlib.pyplot as plt\n",
    "\n",
    "def generate_plot(total_results_time, sequential_total_time):\n",
    "    num_partitions = range(1, len(total_results_time) + 1)\n",
    "\n",
    "    # Creazione del grafico\n",
    "    plt.plot(num_partitions, total_results_time, marker='o', label='Parallel Execution')\n",
    "    plt.axhline(y=sequential_total_time, color='r', linestyle='--', label='Sequential Execution')\n",
    "\n",
    "    plt.xlabel('Number of partitions')\n",
    "    plt.ylabel('Time of execution')\n",
    "    plt.title('Variation of execution time based on the number of partitions')\n",
    "    plt.legend()\n",
    "    plt.show()\n",
    "\n",
    "               \n",
    "generate_plot(total_results_time,sequential_total_time)\n"
   ]
  },
  {
   "cell_type": "code",
   "execution_count": 27,
   "id": "cbddd7f9",
   "metadata": {},
   "outputs": [],
   "source": [
    "import matplotlib.pyplot as plt\n",
    "\n",
    "def generate_bar_chart(counter1, counter2):\n",
    "    labels = ['Sequential', 'Parallel']\n",
    "    values = [counter1, counter2]\n",
    "    colors = ['blue', 'green']  # Esempio di colori diversi per le colonne\n",
    "\n",
    "    plt.bar(labels, values, color=colors)\n",
    "    plt.xlabel('Counters')\n",
    "    plt.ylabel('Values')\n",
    "    plt.title('Comparison of Counters')\n",
    "    plt.show()\n"
   ]
  },
  {
   "cell_type": "code",
   "execution_count": 28,
   "id": "9c8da847",
   "metadata": {},
   "outputs": [
    {
     "data": {
      "image/png": "[encoded data removed]",
      "text/plain": [
       "<Figure size 640x480 with 1 Axes>"
      ]
     },
     "metadata": {},
     "output_type": "display_data"
    }
   ],
   "source": [
    "generate_bar_chart(num_pairs_sequential, num_pairs_parallel)"
   ]
  },
  {
   "cell_type": "code",
   "execution_count": null,
   "id": "862aff0b",
   "metadata": {},
   "outputs": [],
   "source": []
  },
  {
   "cell_type": "code",
   "execution_count": null,
   "id": "cd3d8177",
   "metadata": {},
   "outputs": [],
   "source": []
  }
 ],
 "metadata": {
  "kernelspec": {
   "display_name": "Python 3 (ipykernel)",
   "language": "python",
   "name": "python3"
  },
  "language_info": {
   "codemirror_mode": {
    "name": "ipython",
    "version": 3
   },
   "file_extension": ".py",
   "mimetype": "text/x-python",
   "name": "python",
   "nbconvert_exporter": "python",
   "pygments_lexer": "ipython3",
   "version": "3.10.9"
  }
 },
 "nbformat": 4,
 "nbformat_minor": 5
}
